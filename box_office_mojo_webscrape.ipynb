{
 "cells": [
  {
   "cell_type": "markdown",
   "id": "4020cfbf",
   "metadata": {},
   "source": [
    "# Box Office Mojo\n",
    "Scrapes `Box Office Mojo` by IMDB Pro, using BeautifulSoup, for the various tables. The website tracks box office revenue in a \"systematic, algorithmic way\", and contains the box office for many countries, and contains specific information on the each release. "
   ]
  },
  {
   "cell_type": "markdown",
   "id": "4ad4b372-debe-4577-9445-21b18e75351c",
   "metadata": {},
   "source": [
    "#### Import libraries for webscraping "
   ]
  },
  {
   "cell_type": "code",
   "execution_count": 409,
   "id": "ede28174",
   "metadata": {},
   "outputs": [],
   "source": [
    "import requests\n",
    "from bs4 import BeautifulSoup\n",
    "import pandas as pd"
   ]
  },
  {
   "cell_type": "markdown",
   "id": "ba32e590-d5da-4bdb-a33c-482d59e83314",
   "metadata": {},
   "source": [
    "#### Import Libraries for cleaning the data and for graphing"
   ]
  },
  {
   "cell_type": "code",
   "execution_count": 411,
   "id": "fcd04aff-7c64-4c61-8993-79c58625231d",
   "metadata": {},
   "outputs": [],
   "source": [
    "import pandas as pd\n",
    "import numpy as np\n",
    "import matplotlib.pyplot as plt\n",
    "import seaborn as sns\n",
    "import re"
   ]
  },
  {
   "cell_type": "code",
   "execution_count": 502,
   "id": "3f9876be",
   "metadata": {},
   "outputs": [],
   "source": [
    "base_url = \"https://www.boxofficemojo.com/weekend/by-year/\"\n",
    "years = [\"2024\", \"2023\", \"2022\", \"2021\", \"2020\"]\n",
    "\n",
    "headers = {\n",
    "    \"User-Agent\": \"Mozilla/5.0\",\n",
    "    \"Accept-Language\": \"en-US,en;q=0.9\"\n",
    "}\n",
    "\n",
    "all_data = [] "
   ]
  },
  {
   "cell_type": "code",
   "execution_count": 415,
   "id": "2a67e939",
   "metadata": {},
   "outputs": [
    {
     "name": "stdout",
     "output_type": "stream",
     "text": [
      "Scraping https://www.boxofficemojo.com/weekend/by-year/2024/\n",
      "Scraping https://www.boxofficemojo.com/weekend/by-year/2023/\n",
      "Scraping https://www.boxofficemojo.com/weekend/by-year/2022/\n",
      "Scraping https://www.boxofficemojo.com/weekend/by-year/2021/\n",
      "Scraping https://www.boxofficemojo.com/weekend/by-year/2020/\n"
     ]
    }
   ],
   "source": [
    "for year in years:\n",
    "    url = f\"{base_url}{year}/\" # build the URL for the current year based on pattern\n",
    "    print(f\"Scraping {url}\") # making sure the website is neing scraped through output checl\n",
    "    response = requests.get(url, headers=headers)\n",
    "\n",
    "    # check if the request is successful\n",
    "    if response.status_code != 200:\n",
    "        print(f\"Failed to load {url}\")\n",
    "        continue\n",
    "\n",
    "    # parse the page content\n",
    "    soup = BeautifulSoup(response.text, \"html.parser\")\n",
    "\n",
    "    # find the box office table\n",
    "    table = soup.find(\"table\")\n",
    "    if not table: # print error message if needed\n",
    "        print(f\"No table found for {year}\")\n",
    "        continue\n",
    "\n",
    "    rows = table.find_all(\"tr\")[1:]  # find all of the rows in HTML table, but skip the header\n",
    "\n",
    "    for row in rows:\n",
    "        cols = row.find_all(\"td\") # find each of the elements (weekend, date, movie title, etc)\n",
    "        if len(cols) >= 7:\n",
    "            weekend = cols[0].text.strip() # strip the whitepace around it for all (first col)\n",
    "            movie = cols[2].text.strip() # third column\n",
    "            weekend_gross = cols[1].text.strip() # second column \n",
    "            theaters = cols[4].text.strip() # fifth column \n",
    "            total_gross = cols[6].text.strip() # seventh column \n",
    "\n",
    "            # append to the 'all_data' dictionary created prior to scraping \n",
    "            all_data.append({\n",
    "                \"Year\": year,\n",
    "                \"Weekend\": weekend,\n",
    "                \"Movie\": movie,\n",
    "                \"Weekend Gross\": weekend_gross,\n",
    "                \"Theaters\": theaters,\n",
    "                \"Total Gross to Date\": total_gross\n",
    "            })"
   ]
  },
  {
   "cell_type": "markdown",
   "id": "a9e068eb-8c83-4f90-8608-0706ce123d73",
   "metadata": {},
   "source": [
    "### Data Collection \n",
    "##### Store the scraped data in a dataframe `df`\n",
    "##### Save the dataframe in a csv file, to clean and to view structures of dates, movies etc..."
   ]
  },
  {
   "cell_type": "code",
   "execution_count": 417,
   "id": "7816aebc-8bc5-456a-a971-ab62288df656",
   "metadata": {},
   "outputs": [
    {
     "data": {
      "text/html": [
       "<div>\n",
       "<style scoped>\n",
       "    .dataframe tbody tr th:only-of-type {\n",
       "        vertical-align: middle;\n",
       "    }\n",
       "\n",
       "    .dataframe tbody tr th {\n",
       "        vertical-align: top;\n",
       "    }\n",
       "\n",
       "    .dataframe thead th {\n",
       "        text-align: right;\n",
       "    }\n",
       "</style>\n",
       "<table border=\"1\" class=\"dataframe\">\n",
       "  <thead>\n",
       "    <tr style=\"text-align: right;\">\n",
       "      <th></th>\n",
       "      <th>Year</th>\n",
       "      <th>Weekend</th>\n",
       "      <th>Movie</th>\n",
       "      <th>Weekend Gross</th>\n",
       "      <th>Theaters</th>\n",
       "      <th>Total Gross to Date</th>\n",
       "    </tr>\n",
       "  </thead>\n",
       "  <tbody>\n",
       "    <tr>\n",
       "      <th>0</th>\n",
       "      <td>2024</td>\n",
       "      <td>Dec 27-29</td>\n",
       "      <td>+13.9%</td>\n",
       "      <td>$159,403,178</td>\n",
       "      <td>+20.5%</td>\n",
       "      <td>Sonic the Hedgehog 3</td>\n",
       "    </tr>\n",
       "    <tr>\n",
       "      <th>1</th>\n",
       "      <td>2024</td>\n",
       "      <td>Dec 20-22</td>\n",
       "      <td>+59.8%</td>\n",
       "      <td>$139,944,015</td>\n",
       "      <td>+50.9%</td>\n",
       "      <td>Sonic the Hedgehog 3</td>\n",
       "    </tr>\n",
       "    <tr>\n",
       "      <th>2</th>\n",
       "      <td>2024</td>\n",
       "      <td>Dec 13-15</td>\n",
       "      <td>-32.4%</td>\n",
       "      <td>$87,557,182</td>\n",
       "      <td>-31.4%</td>\n",
       "      <td>Moana 2</td>\n",
       "    </tr>\n",
       "    <tr>\n",
       "      <th>3</th>\n",
       "      <td>2024</td>\n",
       "      <td>Dec 6-8Post-Thanksgiving</td>\n",
       "      <td>-52.9%</td>\n",
       "      <td>$129,558,686</td>\n",
       "      <td>-50.4%</td>\n",
       "      <td>Moana 2</td>\n",
       "    </tr>\n",
       "    <tr>\n",
       "      <th>4</th>\n",
       "      <td>2024</td>\n",
       "      <td>Nov 29-Dec 1Thanksgiving 3-Day</td>\n",
       "      <td>+37.6%</td>\n",
       "      <td>$274,782,835</td>\n",
       "      <td>+36.7%</td>\n",
       "      <td>Moana 2</td>\n",
       "    </tr>\n",
       "  </tbody>\n",
       "</table>\n",
       "</div>"
      ],
      "text/plain": [
       "   Year                         Weekend   Movie Weekend Gross Theaters  \\\n",
       "0  2024                       Dec 27-29  +13.9%  $159,403,178   +20.5%   \n",
       "1  2024                       Dec 20-22  +59.8%  $139,944,015   +50.9%   \n",
       "2  2024                       Dec 13-15  -32.4%   $87,557,182   -31.4%   \n",
       "3  2024        Dec 6-8Post-Thanksgiving  -52.9%  $129,558,686   -50.4%   \n",
       "4  2024  Nov 29-Dec 1Thanksgiving 3-Day  +37.6%  $274,782,835   +36.7%   \n",
       "\n",
       "    Total Gross to Date  \n",
       "0  Sonic the Hedgehog 3  \n",
       "1  Sonic the Hedgehog 3  \n",
       "2               Moana 2  \n",
       "3               Moana 2  \n",
       "4               Moana 2  "
      ]
     },
     "execution_count": 417,
     "metadata": {},
     "output_type": "execute_result"
    }
   ],
   "source": [
    "df = pd.DataFrame(all_data)\n",
    "df.to_csv(\"box_office_weekend_data.csv\", index=False)\n",
    "df.head()"
   ]
  },
  {
   "cell_type": "markdown",
   "id": "ff8fd618-b411-4f2e-a45e-b4814fda3261",
   "metadata": {},
   "source": [
    "### Cleaning the Data\n",
    "\n",
    "1. **Mismatched column names:**\n",
    "   - Total Gross to Date is attatched to the movies names  \n",
    "   - Percent Increases are mismatched\n",
    "   - Column Names are also vague and misleading"
   ]
  },
  {
   "cell_type": "code",
   "execution_count": 419,
   "id": "6edc1e26-c0f0-4b46-950a-5e7c31b613c6",
   "metadata": {},
   "outputs": [],
   "source": [
    "df = df.rename(columns={\n",
    "    'Weekend Gross': 'Weekend Gross ($)',\n",
    "    'Gross Change (%)': 'Movie',\n",
    "    'Theaters': 'Theaters Change (%)',\n",
    "    'Total Gross to Date': 'Movie'\n",
    "})"
   ]
  },
  {
   "cell_type": "markdown",
   "id": "1cdb3796-a258-402e-b063-ec5131988887",
   "metadata": {},
   "source": [
    "2. **Change Data Type**\n",
    "   - Change the weekend grosss to be numerical\n",
    "3. **Change Formatting of the Date**\n",
    "   - Add a space between the date and special holidays, for easie cleaning."
   ]
  },
  {
   "cell_type": "markdown",
   "id": "68d03080-15d8-45cf-9229-76446dae5c58",
   "metadata": {},
   "source": [
    "1. In the code below, I used a regular expression/regex to clean the text, so the numbers with commas become numeric strings\n",
    "2. After the values become digits, I convert the string to floats, so I can perform calculations on the numbers if needed"
   ]
  },
  {
   "cell_type": "code",
   "execution_count": 421,
   "id": "79de8591-5eb2-4cdd-9a90-98a47f3c3ee2",
   "metadata": {},
   "outputs": [],
   "source": [
    "df['Weekend Gross ($)'] = df['Weekend Gross ($)'].replace('[\\$,]', '', regex=True).astype(float)"
   ]
  },
  {
   "cell_type": "markdown",
   "id": "16be505e-1d86-4b90-983e-627e55065d9f",
   "metadata": {},
   "source": [
    "1. First, I added a space if a number is \"squished\" right next to a letter\n",
    "   - '15Dec' become '15 Dec'\n",
    "2. In the regex, the pattern `r'(\\d)([A-Za-z])` breaks down to\n",
    "   - (\\d) &rarr; matched a digit 0-9\n",
    "   - ([A-Za-z])&rarr; matches a letter, lowercase or uppercare\n",
    "3. The replacement `r'\\1 \\2`\n",
    "   - \\1 &rarr; digit that is matched\n",
    "   - \\2 &rarr; refers to the letter\n",
    "   - Space is added, format is cleaner now for stripping down the days"
   ]
  },
  {
   "cell_type": "code",
   "execution_count": 423,
   "id": "a40c2a8f-0379-4c1a-a7ea-e32f4c186b41",
   "metadata": {},
   "outputs": [
    {
     "data": {
      "text/html": [
       "<div>\n",
       "<style scoped>\n",
       "    .dataframe tbody tr th:only-of-type {\n",
       "        vertical-align: middle;\n",
       "    }\n",
       "\n",
       "    .dataframe tbody tr th {\n",
       "        vertical-align: top;\n",
       "    }\n",
       "\n",
       "    .dataframe thead th {\n",
       "        text-align: right;\n",
       "    }\n",
       "</style>\n",
       "<table border=\"1\" class=\"dataframe\">\n",
       "  <thead>\n",
       "    <tr style=\"text-align: right;\">\n",
       "      <th></th>\n",
       "      <th>Weekend</th>\n",
       "    </tr>\n",
       "  </thead>\n",
       "  <tbody>\n",
       "    <tr>\n",
       "      <th>0</th>\n",
       "      <td>Dec 27-29</td>\n",
       "    </tr>\n",
       "    <tr>\n",
       "      <th>1</th>\n",
       "      <td>Dec 20-22</td>\n",
       "    </tr>\n",
       "    <tr>\n",
       "      <th>2</th>\n",
       "      <td>Dec 13-15</td>\n",
       "    </tr>\n",
       "    <tr>\n",
       "      <th>3</th>\n",
       "      <td>Dec 6-8 Post-Thanksgiving</td>\n",
       "    </tr>\n",
       "    <tr>\n",
       "      <th>4</th>\n",
       "      <td>Nov 29-Dec 1 Thanksgiving 3-Day</td>\n",
       "    </tr>\n",
       "    <tr>\n",
       "      <th>...</th>\n",
       "      <td>...</td>\n",
       "    </tr>\n",
       "    <tr>\n",
       "      <th>303</th>\n",
       "      <td>Jan 24-26</td>\n",
       "    </tr>\n",
       "    <tr>\n",
       "      <th>304</th>\n",
       "      <td>Jan 17-20 MLK wknd</td>\n",
       "    </tr>\n",
       "    <tr>\n",
       "      <th>305</th>\n",
       "      <td>Jan 17-19</td>\n",
       "    </tr>\n",
       "    <tr>\n",
       "      <th>306</th>\n",
       "      <td>Jan 10-12</td>\n",
       "    </tr>\n",
       "    <tr>\n",
       "      <th>307</th>\n",
       "      <td>Jan 3-5</td>\n",
       "    </tr>\n",
       "  </tbody>\n",
       "</table>\n",
       "<p>308 rows × 1 columns</p>\n",
       "</div>"
      ],
      "text/plain": [
       "                             Weekend\n",
       "0                          Dec 27-29\n",
       "1                          Dec 20-22\n",
       "2                          Dec 13-15\n",
       "3          Dec 6-8 Post-Thanksgiving\n",
       "4    Nov 29-Dec 1 Thanksgiving 3-Day\n",
       "..                               ...\n",
       "303                        Jan 24-26\n",
       "304               Jan 17-20 MLK wknd\n",
       "305                        Jan 17-19\n",
       "306                        Jan 10-12\n",
       "307                          Jan 3-5\n",
       "\n",
       "[308 rows x 1 columns]"
      ]
     },
     "execution_count": 423,
     "metadata": {},
     "output_type": "execute_result"
    }
   ],
   "source": [
    "df['Weekend'] = df['Weekend'].apply(lambda x: re.sub(r'(\\d)([A-Za-z])', r'\\1 \\2', x))\n",
    "df[['Weekend']]"
   ]
  },
  {
   "cell_type": "markdown",
   "id": "d5039d21-0c02-41d5-8d9a-e6b91283bcfd",
   "metadata": {},
   "source": [
    "### Data Cleaning\n",
    "- I created a list, to save each of the holiday labels/regex patterns as a string. Initially, I wanted to create a loop to interate through the date column and seperate out the holidays/ special days, but I realized there was not much of a pattern, and decided to just manually write out the holidays. \n",
    "- After cleaning, some of the days did not seperate irregardless of changing up the extraction code, so I decided to continue on. \n"
   ]
  },
  {
   "cell_type": "code",
   "execution_count": 425,
   "id": "897f11e6-755f-4371-89e7-d9667f393350",
   "metadata": {},
   "outputs": [],
   "source": [
    "holiday_keywords = [\n",
    "    'COVID-19 Pandemic',\n",
    "    'COVID-19 PandemicEaster wknd',\n",
    "    \"COVID-19 PandemicIndig. Peoples' Day wknd\",\n",
    "    'COVID-19 PandemicLabor Day wknd',\n",
    "    'COVID-19 PandemicMLK wknd',\n",
    "    'COVID-19 PandemicMemorial Day wknd',\n",
    "    'COVID-19 PandemicPost-Thanksgiving',\n",
    "    \"COVID-19 PandemicPresidents' Day wknd\",\n",
    "    'COVID-19 PandemicThanksgiving 3-Day',\n",
    "    'COVID-19 PandemicThanksgiving 4-Day',\n",
    "    'COVID-19 PandemicThanksgiving 5-Day',\n",
    "    'Christmas long wknd',\n",
    "    'Easter wknd',\n",
    "    \"Indig. Peoples' Day wknd\",\n",
    "    'July 4th long wknd',\n",
    "    'Labor Day wknd',\n",
    "    'MLK wknd',\n",
    "    'Memorial Day wknd',\n",
    "    'Post-Thanksgiving',\n",
    "    'Post-ThanksgivingWorld Cup (Qatar)',\n",
    "    \"Presidents' Day wknd\",\n",
    "    'Thanksgiving 3-Day',\n",
    "    'Thanksgiving 3-DayWorld Cup (Qatar)',\n",
    "    'Thanksgiving 4-Day',\n",
    "    'Thanksgiving 4-DayWorld Cup (Qatar)',\n",
    "    'Thanksgiving 5-Day',\n",
    "    'Thanksgiving 5-DayWorld Cup (Qatar)',\n",
    "    'World Cup (Qatar)',\n",
    "    \"New Year's long wknd\"\n",
    "]"
   ]
  },
  {
   "cell_type": "code",
   "execution_count": 427,
   "id": "fc49cd99-be77-44f3-a574-1e0cf38b16e1",
   "metadata": {},
   "outputs": [
    {
     "name": "stdout",
     "output_type": "stream",
     "text": [
      "        Weekend        Special Days\n",
      "0     Dec 27-29                None\n",
      "1     Dec 20-22                None\n",
      "2     Dec 13-15                None\n",
      "3       Dec 6-8   Post-Thanksgiving\n",
      "4  Nov 29-Dec 1  Thanksgiving 3-Day\n"
     ]
    }
   ],
   "source": [
    " # Join all of the event keywords into a single regex pattern, using the \"|\"\n",
    "holiday_pattern = \"|\".join(holiday_keywords)\n",
    "\n",
    "# Define a function to extract the special days  \n",
    "def extract_special_day(weekend):\n",
    "    # Look for any holiday/event keyword match within the weekend string\n",
    "    match = re.search(holiday_pattern, weekend)\n",
    "    \n",
    "    if match:\n",
    "        # Remove the matched keyword from the string to clean up the weekend date\n",
    "        clean_weekend = re.sub(holiday_pattern, \"\", weekend).strip()\n",
    "        special_day = match.group()\n",
    "        return pd.Series([clean_weekend, special_day])\n",
    "        \n",
    "    # If no match is found, return the original weekend string and None for special day\n",
    "    return pd.Series([weekend.strip(), None])\n",
    "\n",
    "# Apply the function to the 'Weekend' column and split results into 'Weekend' and 'Special Days' columns\n",
    "df[[\"Weekend\", \"Special Days\"]] = df[\"Weekend\"].apply(extract_special_day)\n",
    "\n",
    "# Save the cleaned DataFrame to a new CSV file\n",
    "df.to_csv(\"cleaned_box_office_data.csv\", index=False)\n",
    "\n",
    "# Pint the first few cleaned rows of the weekend & special day column to confirm if it worked\n",
    "print(df[[\"Weekend\", \"Special Days\"]].head())\n",
    "\n"
   ]
  },
  {
   "cell_type": "markdown",
   "id": "4e74109b-849d-409d-a715-93c14fb43305",
   "metadata": {},
   "source": [
    "# Analysis & Questions\n"
   ]
  },
  {
   "cell_type": "markdown",
   "id": "e10256ba-2c44-477e-9ce5-6171d48bbe40",
   "metadata": {},
   "source": [
    "### 1. Which year had the highest total weekend box office revenue?"
   ]
  },
  {
   "cell_type": "markdown",
   "id": "94b4cdb5-7b5a-48ce-9b1c-bc5a9b5e1696",
   "metadata": {},
   "source": [
    "> I first made sure that the 'Weekend Gross' Column was indeed numeric, so then I could plot the box office by year and see the amount of money by weekedn in each year. \n",
    "> I then created a variable, yearly totals, which: \n",
    ">> Groups the data by each year (2020-2024)\n",
    ">> Focuses on the weekend gross amount\n",
    ">> Calculates the total gross per year\n",
    ">> Converts the result back into a df, with regualr int. index\n",
    ">>\n",
    ">> For the bar labels, a resource was used:\n",
    ">>> https://stackoverflow.com/questions/39444665/add-data-labels-to-seaborn-factor-plot\n"
   ]
  },
  {
   "cell_type": "code",
   "execution_count": 429,
   "id": "ccec144f-f88d-4d94-94fc-4eb7466359ac",
   "metadata": {},
   "outputs": [],
   "source": [
    "# Convert the 'Weekend Gross ($)' column to numeric \n",
    "df['Weekend Gross ($)'] = pd.to_numeric(df['Weekend Gross ($)'], errors='coerce') \n",
    "\n",
    "# Group the data by year and calculate the total weekend gross per year\n",
    "yearly_totals = df.groupby('Year')['Weekend Gross ($)'].sum().reset_index()\n"
   ]
  },
  {
   "cell_type": "code",
   "execution_count": 437,
   "id": "fbfd81b8-e755-44ac-8470-4997975fc0b5",
   "metadata": {},
   "outputs": [
    {
     "data": {
      "image/png": "[encoded data removed]",
      "text/plain": [
       "<Figure size 1000x600 with 1 Axes>"
      ]
     },
     "metadata": {},
     "output_type": "display_data"
    }
   ],
   "source": [
    "plt.figure(figsize=(10,6)) # Set up the figure size and plot style\n",
    "\n",
    "sns.set_style(\"darkgrid\") # darker grid style\n",
    "\n",
    "# Create a bar plot showing total weekend grosses per year using seabon\n",
    "ax = sns.barplot(data=yearly_totals, x='Year', y='Weekend Gross ($)', hue='Year', palette=\"Paired\", legend=False)\n",
    "\n",
    "# add dollar labels on each plot showing the total weekend grosses per year (stackoverflow + w3schools for help)\n",
    "for index, row in yearly_totals.iterrows():\n",
    "    billions = row['Weekend Gross ($)'] / 1e9\n",
    "    ax.text(index, row['Weekend Gross ($)'], f'${billions:.1f}B',\n",
    "            color='black', ha='center', va='bottom', fontsize=10)\n",
    "\n",
    "# Add a title and axis labels\n",
    "plt.title('Weekend Box Office: Steady Growth from 2020 to 2024')\n",
    "plt.ylabel('Total Gross ($)')\n",
    "plt.xlabel('Year')\n",
    "\n",
    "# show final graph\n",
    "plt.show()\n"
   ]
  },
  {
   "cell_type": "markdown",
   "id": "31670559-230c-4846-aee4-508ab6f0bc89",
   "metadata": {},
   "source": [
    "### 2. Which movie had the highest-grossing opening weekend in each year?"
   ]
  },
  {
   "cell_type": "markdown",
   "id": "ccf89cc7-0c77-4df2-b052-f094841b829a",
   "metadata": {},
   "source": [
    "##### Find the movie with the highest-grossing weekend in each year\n",
    "##### Group by 'Year', find the index of the max 'Weekend Gross ($)', and use .loc to extract those rows"
   ]
  },
  {
   "cell_type": "code",
   "execution_count": 378,
   "id": "bb78cabc-7e6d-4382-b888-51de0a5a7d21",
   "metadata": {},
   "outputs": [],
   "source": [
    "high_gross_movie_per_year = df.loc[df.groupby(\"Year\")[\"Weekend Gross ($)\"].idxmax()] "
   ]
  },
  {
   "cell_type": "code",
   "execution_count": 444,
   "id": "62bbd1f3-91a2-4e42-9ebc-5b1c5237a21e",
   "metadata": {},
   "outputs": [
    {
     "data": {
      "text/html": [
       "<div>\n",
       "<style scoped>\n",
       "    .dataframe tbody tr th:only-of-type {\n",
       "        vertical-align: middle;\n",
       "    }\n",
       "\n",
       "    .dataframe tbody tr th {\n",
       "        vertical-align: top;\n",
       "    }\n",
       "\n",
       "    .dataframe thead th {\n",
       "        text-align: right;\n",
       "    }\n",
       "</style>\n",
       "<table border=\"1\" class=\"dataframe\">\n",
       "  <thead>\n",
       "    <tr style=\"text-align: right;\">\n",
       "      <th></th>\n",
       "      <th>Year</th>\n",
       "      <th>Weekend</th>\n",
       "      <th>Movie</th>\n",
       "      <th>Movie</th>\n",
       "      <th>Weekend Gross ($)</th>\n",
       "    </tr>\n",
       "  </thead>\n",
       "  <tbody>\n",
       "    <tr>\n",
       "      <th>304</th>\n",
       "      <td>2020</td>\n",
       "      <td>Jan 17-20 MLK wknd</td>\n",
       "      <td>-</td>\n",
       "      <td>Bad Boys for Life</td>\n",
       "      <td>182673454.0</td>\n",
       "    </tr>\n",
       "    <tr>\n",
       "      <th>188</th>\n",
       "      <td>2021</td>\n",
       "      <td>Dec 17-19</td>\n",
       "      <td>+591.1%</td>\n",
       "      <td>Spider-Man: No Way Home</td>\n",
       "      <td>281737588.0</td>\n",
       "    </tr>\n",
       "    <tr>\n",
       "      <th>154</th>\n",
       "      <td>2022</td>\n",
       "      <td>Jul 8-10</td>\n",
       "      <td>+25.9%</td>\n",
       "      <td>Thor: Love and Thunder</td>\n",
       "      <td>237265821.0</td>\n",
       "    </tr>\n",
       "    <tr>\n",
       "      <th>89</th>\n",
       "      <td>2023</td>\n",
       "      <td>Jul 21-23</td>\n",
       "      <td>+129.4%</td>\n",
       "      <td>Barbie</td>\n",
       "      <td>307805201.0</td>\n",
       "    </tr>\n",
       "    <tr>\n",
       "      <th>6</th>\n",
       "      <td>2024</td>\n",
       "      <td>Nov 27-Dec 1 Thanksgiving 5-Day</td>\n",
       "      <td>-</td>\n",
       "      <td>Moana 2</td>\n",
       "      <td>421199078.0</td>\n",
       "    </tr>\n",
       "  </tbody>\n",
       "</table>\n",
       "</div>"
      ],
      "text/plain": [
       "     Year                          Weekend    Movie                    Movie  \\\n",
       "304  2020               Jan 17-20 MLK wknd        -        Bad Boys for Life   \n",
       "188  2021                        Dec 17-19  +591.1%  Spider-Man: No Way Home   \n",
       "154  2022                         Jul 8-10   +25.9%   Thor: Love and Thunder   \n",
       "89   2023                        Jul 21-23  +129.4%                   Barbie   \n",
       "6    2024  Nov 27-Dec 1 Thanksgiving 5-Day        -                  Moana 2   \n",
       "\n",
       "     Weekend Gross ($)  \n",
       "304        182673454.0  \n",
       "188        281737588.0  \n",
       "154        237265821.0  \n",
       "89         307805201.0  \n",
       "6          421199078.0  "
      ]
     },
     "execution_count": 444,
     "metadata": {},
     "output_type": "execute_result"
    }
   ],
   "source": [
    "high_gross_movie_per_year = high_gross_movie_per_year[[\"Year\", \"Weekend\", \"Movie\", \"Weekend Gross ($)\"]] #select only relevant columns \n",
    "\n",
    "high_gross_movie_per_year"
   ]
  },
  {
   "cell_type": "markdown",
   "id": "2bcf8fcd-3155-4a17-9d2f-898001b40a3f",
   "metadata": {},
   "source": [
    "### 3. How do weekend grosses change seasonally (e.g., summer vs winter)?"
   ]
  },
  {
   "cell_type": "markdown",
   "id": "fff4693b-e14e-48f9-bbbf-fcaef1db184b",
   "metadata": {},
   "source": [
    "> - First, the month abbreviation must be stripped from the date name \n",
    "> - Second, a dictionary must be created, mapping the months to the seasons\n",
    "> Then, I created a new column named 'season' in the dataframe for graphing"
   ]
  },
  {
   "cell_type": "code",
   "execution_count": 456,
   "id": "78e84365-b1b8-4dea-90ae-1689c49d4813",
   "metadata": {},
   "outputs": [],
   "source": [
    "df[\"Month\"] = df[\"Weekend\"].str.extract(r'([A-Za-z]+)') #Extract the month abbreviation"
   ]
  },
  {
   "cell_type": "code",
   "execution_count": 122,
   "id": "84604f9a-0dfd-4b58-8cd1-bdd5af51ec5f",
   "metadata": {},
   "outputs": [],
   "source": [
    "# Create a dictionary mapping month to season\n",
    "month_season = {\n",
    "    \"Dec\": \"Winter\", \"Jan\": \"Winter\", \"Feb\": \"Winter\", \n",
    "    \"Mar\": \"Spring\", \"Apr\": \"Spring\", \"May\": \"Spring\", \n",
    "    \"Jun\": \"Summer\", \"Jul\": \"Summer\", \"Aug\": \"Summer\", \n",
    "    \"Sep\": \"Fall\", \"Oct\": \"Fall\", \"Nov\": \"Fall\",\n",
    "}"
   ]
  },
  {
   "cell_type": "code",
   "execution_count": 124,
   "id": "706eacca-506c-456c-b22f-a7801feaf4e7",
   "metadata": {},
   "outputs": [],
   "source": [
    "df[\"Season\"] = df[\"Month\"].map(month_season) # apply mapping "
   ]
  },
  {
   "cell_type": "markdown",
   "id": "36d2b1e1-aca4-49b3-97b9-0a50077ff97e",
   "metadata": {},
   "source": [
    "> Now, group by season & calculate the average weekend grosses"
   ]
  },
  {
   "cell_type": "code",
   "execution_count": 133,
   "id": "81d131a1-0b58-4d78-86ac-a0515ffb7cc6",
   "metadata": {},
   "outputs": [],
   "source": [
    "# group by season & calculate average wknd gross\n",
    "seasonal_avg = df.groupby(\"Season\")[\"Weekend Gross ($)\"].mean().reset_index()"
   ]
  },
  {
   "cell_type": "code",
   "execution_count": 135,
   "id": "5c325f78-ed99-423f-a6f6-c5c7f8bc1953",
   "metadata": {},
   "outputs": [],
   "source": [
    "# I ordered the seasons in calendar order (for coherent visuals)\n",
    "season_order = [\"Winter\", \"Spring\", \"Summer\", \"Fall\"]\n",
    "seasonal_avg[\"Season\"] = pd.Categorical(seasonal_avg[\"Season\"], categories=season_order, ordered=True)\n",
    "seasonal_avg = seasonal_avg.sort_values(\"Season\")"
   ]
  },
  {
   "cell_type": "code",
   "execution_count": 458,
   "id": "2b561f73-6611-46a4-afac-19536c50fd27",
   "metadata": {},
   "outputs": [
    {
     "data": {
      "image/png": "[encoded data removed]",
      "text/plain": [
       "<Figure size 640x480 with 1 Axes>"
      ]
     },
     "metadata": {},
     "output_type": "display_data"
    }
   ],
   "source": [
    "palette = [\"#23529F\", \"#D571B2\", \"#FFCE5D\", \"#C73E1D\"] #custom palete for seasons (easier to differentiate)\n",
    "\n",
    "#seaborn plot showing average weekend gross by season\n",
    "sns.barplot(data=seasonal_avg, x=\"Season\", y=\"Weekend Gross ($)\", hue='Season', palette=palette, legend=False)\n",
    "\n",
    "# Add labels & title\n",
    "plt.xlabel(\"Season\")\n",
    "plt.ylabel(\"Average Weekend Gross ($)\")\n",
    "plt.title(\"Average Weekend Gross by Season\")\n",
    "\n",
    "# Final graph\n",
    "plt.show()"
   ]
  },
  {
   "cell_type": "markdown",
   "id": "b5ee97a5-8e08-46a4-a3b9-79dd825225ce",
   "metadata": {},
   "source": [
    "#### 4. Which months have the highest concentration of movie releases?"
   ]
  },
  {
   "cell_type": "markdown",
   "id": "bfecf24e-30b9-4327-97c9-fa415cd8a115",
   "metadata": {},
   "source": [
    "> To answer this question, I needed to understand how box office revenue shifts throughout the year, specifically by season. I realized a heatmap would be the best for this question, as it would let me spot what year was the most + color shading makes identifying easier. \n",
    ">> I first extracted the month from each weekend label using a regular expression.\n",
    ">> - Then I created a mapping dictionary to assign each month to its corresponding season (e.g., Jul → Summer).\n",
    ">> - I added a new column called \"Season\" to the dataset based on that mapping.\n",
    "\n",
    ">Finally, I grouped the data by \"Season\" and calculated the average weekend gross for each one, which I visualized with a colored bar chart.\n",
    "\n",
    "##### Used for ploting: https://seaborn.pydata.org/generated/seaborn.heatmap.html"
   ]
  },
  {
   "cell_type": "code",
   "execution_count": 221,
   "id": "fc604524-aa98-48a4-aad9-75e9a492af48",
   "metadata": {},
   "outputs": [],
   "source": [
    "# Group by Year and Month to count how many movies were released in each month of each year\n",
    "monthly_trend = df.groupby([\"Year\", \"Month\"]).size().reset_index(name=\"Releases\")"
   ]
  },
  {
   "cell_type": "code",
   "execution_count": 265,
   "id": "0a098693-7a84-42c7-bc69-6bca2676dacd",
   "metadata": {},
   "outputs": [],
   "source": [
    "# Define the order of months to appear correctly on the heatmap\n",
    "month_order = [\"Jan\", \"Feb\", \"Mar\", \"Apr\", \"May\", \"Jun\",\n",
    "               \"Jul\", \"Aug\", \"Sep\", \"Oct\", \"Nov\", \"Dec\"]\n",
    "\n",
    "# Make sure the Month column is treated as a categorical variable with the right order\n",
    "monthly_trend[\"Month\"] = pd.Categorical(monthly_trend[\"Month\"], categories=month_order, ordered=True)"
   ]
  },
  {
   "cell_type": "code",
   "execution_count": 473,
   "id": "4aaeb0cc-9ed5-4246-8832-780e8a1bdebc",
   "metadata": {},
   "outputs": [
    {
     "data": {
      "image/png": "[encoded data removed]",
      "text/plain": [
       "<Figure size 1200x600 with 2 Axes>"
      ]
     },
     "metadata": {},
     "output_type": "display_data"
    }
   ],
   "source": [
    "# Pivot the data to create a heatmap matrix\n",
    "heatmap_data = monthly_trend.pivot(index=\"Year\", columns=\"Month\", values=\"Releases\")\n",
    "\n",
    "plt.figure(figsize=(12, 6)) # set figure size\n",
    "sns.heatmap(heatmap_data, annot=True, fmt=\".0f\", cmap=\"YlGnBu\", linewidths=0.5, linecolor='gray')\n",
    "plt.title(\" Concentration of Movie Releases by Year\")\n",
    "plt.xlabel(\"Month\")\n",
    "plt.ylabel(\"Year\")\n",
    "\n",
    "# final graph\n",
    "plt.show()"
   ]
  },
  {
   "cell_type": "markdown",
   "id": "b3db7d78-fd67-4441-a3d9-90ab994324b2",
   "metadata": {},
   "source": [
    "## Final Summary of Findings"
   ]
  },
  {
   "cell_type": "markdown",
   "id": "ef7e713a-aa9c-4033-8e81-cc5d2f6bbfa1",
   "metadata": {},
   "source": [
    "1. Which year had the highest total weekend box office revenue?\n",
    "   - The data show a steady growth in weekend box offices form 2020 to 2024.\n",
    "   - 2023 is recorded as the highest total, showing upward growth and string post-pandemic recovery\n"
   ]
  },
  {
   "cell_type": "markdown",
   "id": "7bb8e258-2041-4124-97c2-9c9da2ad1729",
   "metadata": {},
   "source": [
    "2. Which movie had the highest-grossing opening weekend in each year?\n"
   ]
  },
  {
   "cell_type": "markdown",
   "id": "d266fc84-5b92-490d-a996-ae0d8cd4ba5e",
   "metadata": {},
   "source": [
    "| Year   | Movie |\n",
    "| :----| -----------: |\n",
    "| 2020 |Bad Boys for Life |\n",
    "| 2021 | Spider-Man: No Way Home|\n",
    "| 2022    | Thor: Love & Thunder|\n",
    "| 2023   | Barbie |\n",
    "| 2024   | Moana 2   |"
   ]
  },
  {
   "cell_type": "markdown",
   "id": "09eca10d-5fc2-4eeb-a925-c6976194eb07",
   "metadata": {},
   "source": [
    "3. How do weekend grosses change seasonally (e.g., summer vs winter)?\n",
    "   - Summer consistently brought in the highest average weekend grosses, likely due to blockbuster releases.\n",
    "   - Winter followed closely, boosted by holiday films.\n",
    "   - Spring and Fall showed lower average grosses, with fewer major releases."
   ]
  },
  {
   "cell_type": "markdown",
   "id": "ae76e891-8315-4179-afb9-f1d96b4a1103",
   "metadata": {},
   "source": [
    "4. Which months have the highest concentration of movie releases?\n",
    "   - The summer months (June–August) and holiday-heavy months (November–December) saw the most releases &rarr; more people are likely to be on vacation or break\n",
    "   - A heatmap visualization clearly highlighted this seasonal trend over the years."
   ]
  }
 ],
 "metadata": {
  "kernelspec": {
   "display_name": "Python [conda env:base] *",
   "language": "python",
   "name": "conda-base-py"
  },
  "language_info": {
   "codemirror_mode": {
    "name": "ipython",
    "version": 3
   },
   "file_extension": ".py",
   "mimetype": "text/x-python",
   "name": "python",
   "nbconvert_exporter": "python",
   "pygments_lexer": "ipython3",
   "version": "3.11.11"
  }
 },
 "nbformat": 4,
 "nbformat_minor": 5
}
